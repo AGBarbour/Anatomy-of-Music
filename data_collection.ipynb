{
 "cells": [
  {
   "cell_type": "code",
   "execution_count": 103,
   "metadata": {},
   "outputs": [],
   "source": [
    "import billboard\n"
   ]
  },
  {
   "cell_type": "code",
   "execution_count": 104,
   "metadata": {},
   "outputs": [],
   "source": [
    "# Call hot 100 tracks billbaord API using billboard library\n",
    "chart = billboard.ChartData('hot-100')"
   ]
  },
  {
   "cell_type": "code",
   "execution_count": 230,
   "metadata": {
    "scrolled": true
   },
   "outputs": [],
   "source": [
    "artists = []\n",
    "songs = []\n",
    "\n",
    "\n",
    "for song in chart:\n",
    "    \n",
    "#     Add songs and artists to list for API calls\n",
    "    songs.append(song.title)\n",
    "    artists.append(song.artist)\n",
    "# print(artists)\n",
    "# print()\n",
    "# print(songs)"
   ]
  },
  {
   "cell_type": "code",
   "execution_count": 231,
   "metadata": {},
   "outputs": [],
   "source": [
    "# Call top 200 tracks billbaord API using billboard library\n",
    "chart = billboard.ChartData('billboard-200')\n",
    "# print(chart)"
   ]
  },
  {
   "cell_type": "code",
   "execution_count": 224,
   "metadata": {
    "scrolled": true
   },
   "outputs": [],
   "source": [
    "import requests\n",
    "import json\n",
    "\n",
    "top_songs_json = []\n",
    "song_ids = []\n",
    "\n",
    "# Enter your access_token given to you. Will import have to figure out a way to import from js\n",
    "access_token = \"\"\"BQCKOqVmk_hq6pp3lVUdLpc4KGXeinjI2TWdjesypilyCmJ0sRUri_3aJFFWKBDPABAOnGU4DC2EusLos-L0LM4f6LUXEgYL3EAj-27bl0rtCQPRwgODIf1QvWIUf6wGob2X_dfMY6XYF8ht_JGKYLWctmTGn3swUalO\"\"\"\n",
    "\n",
    "for song in songs:\n",
    "    \n",
    "#     Spotify API search endpoint returns list of tracks matching track title in order of popularity\n",
    "    endpoint = f\"https://api.spotify.com/v1/search?q={song}&type=track\"\n",
    "    headers = {\"Authorization\":f\"Bearer {access_token}\"}\n",
    "\n",
    "    response = requests.get(endpoint,headers=headers).json()\n",
    "    \n",
    "    try:\n",
    "#         Apped first json object to list (The most popular track matching search criteria)\n",
    "        track = response[\"tracks\"][\"items\"][0]\n",
    "        top_songs_json.append(track)\n",
    "        \n",
    "#         Append song_id for use in second API Call\n",
    "        song_id = response[\"tracks\"][\"items\"][0][\"id\"]\n",
    "        song_ids.append(song_id)\n",
    "        \n",
    "    except: \n",
    "#         Alert for any track that was not appended to lists\n",
    "        print(\"This was not added\")\n",
    "        print(json.dumps(response[\"tracks\"][\"items\"][0][\"artists\"],indent=4))\n"
   ]
  },
  {
   "cell_type": "code",
   "execution_count": 225,
   "metadata": {
    "scrolled": false
   },
   "outputs": [
    {
     "name": "stdout",
     "output_type": "stream",
     "text": [
      "100\n"
     ]
    }
   ],
   "source": [
    "# Verify list length\n",
    "print(len(song_ids))"
   ]
  },
  {
   "cell_type": "code",
   "execution_count": 232,
   "metadata": {},
   "outputs": [],
   "source": [
    "audio_features = []\n",
    "\n",
    "# Audio Features\n",
    "danceability = []\n",
    "energy = []\n",
    "loudness = []\n",
    "speechiness = []\n",
    "duration_ms = []\n",
    "\n",
    "for song_id in song_ids:\n",
    "    \n",
    "#     Call Spotify API to collect Audio features data\n",
    "    endpoint = f\"https://api.spotify.com/v1/audio-features/{song_id}\"\n",
    "    headers = {\"Authorization\":f\"Bearer {access_token}\"}\n",
    "\n",
    "    response = requests.get(endpoint,headers=headers).json()\n",
    "    \n",
    "#     Append raw json to list\n",
    "    audio_features.append(response)\n",
    "    \n",
    "#     Append each feature\n",
    "    danceability.append(response[\"danceability\"])\n",
    "    energy.append(response[\"energy\"])\n",
    "    loudness.append(response[\"loudness\"])\n",
    "    speechiness.append(response[\"speechiness\"])\n",
    "    duration_ms.append(response[\"duration_ms\"])\n",
    "    "
   ]
  },
  {
   "cell_type": "code",
   "execution_count": null,
   "metadata": {},
   "outputs": [],
   "source": [
    "# import json\n",
    "\n",
    "# for country in countries:\n",
    "#     c.execute(\"insert into countries values (?, ?)\", [country['id'], json.dumps(country)])\n",
    "#     conn.commit()\n",
    "\n",
    "# # Close db connection\n",
    "# conn.close()"
   ]
  },
  {
   "cell_type": "code",
   "execution_count": null,
   "metadata": {},
   "outputs": [],
   "source": []
  },
  {
   "cell_type": "code",
   "execution_count": null,
   "metadata": {},
   "outputs": [],
   "source": []
  }
 ],
 "metadata": {
  "kernelspec": {
   "display_name": "Python [default]",
   "language": "python",
   "name": "python3"
  },
  "language_info": {
   "codemirror_mode": {
    "name": "ipython",
    "version": 3
   },
   "file_extension": ".py",
   "mimetype": "text/x-python",
   "name": "python",
   "nbconvert_exporter": "python",
   "pygments_lexer": "ipython3",
   "version": "3.6.4"
  }
 },
 "nbformat": 4,
 "nbformat_minor": 2
}
