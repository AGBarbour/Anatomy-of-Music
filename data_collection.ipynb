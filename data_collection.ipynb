{
 "cells": [
  {
   "cell_type": "code",
   "execution_count": 7,
   "metadata": {},
   "outputs": [],
   "source": [
    "# Import Dependencies\n",
    "import billboard\n",
    "import sqlite3\n",
    "import requests\n",
    "import json\n"
   ]
  },
  {
   "cell_type": "code",
   "execution_count": 8,
   "metadata": {},
   "outputs": [],
   "source": [
    "# Call hot 100 tracks billbaord API using billboard library\n",
    "chart = billboard.ChartData('hot-100')"
   ]
  },
  {
   "cell_type": "code",
   "execution_count": 9,
   "metadata": {
    "scrolled": true
   },
   "outputs": [],
   "source": [
    "artists = []\n",
    "songs = []\n",
    "\n",
    "\n",
    "for song in chart:\n",
    "    \n",
    "#     Add songs and artists to list for API calls\n",
    "    songs.append(song.title)\n",
    "    artists.append(song.artist)\n",
    "# print(artists)\n",
    "# print()\n",
    "# print(songs)"
   ]
  },
  {
   "cell_type": "code",
   "execution_count": 10,
   "metadata": {},
   "outputs": [],
   "source": [
    "# Call top 200 tracks billbaord API using billboard library\n",
    "chart = billboard.ChartData('billboard-200')\n",
    "# print(chart)"
   ]
  },
  {
   "cell_type": "code",
   "execution_count": 13,
   "metadata": {},
   "outputs": [],
   "source": [
    "# Access token for Spotify API calls\n",
    "# Enter your access_token given to you. Will import have to figure out a way to import from js\n",
    "\n",
    "access_token = \"BQCccsEqXhKa4g7gAhhiILFLnQYWZxE7wgnxJqCECHIJ0dca2voLMKVgdIWdYvnLSSffUatHW6_36kbhD7HGcLZhZMLeL6me0ewwRGV8X6I-a0DVu502mT0jK5UFBpvHooEdOFnCuY99kB3j6r376H6YuyO-CVUWrBPM\""
   ]
  },
  {
   "cell_type": "code",
   "execution_count": 14,
   "metadata": {
    "scrolled": true
   },
   "outputs": [],
   "source": [
    "\n",
    "top_songs_json = []\n",
    "song_ids = []\n",
    "popularity = []\n",
    "markets = []\n",
    "\n",
    "for song in songs:\n",
    "    \n",
    "#     Spotify API search endpoint returns list of tracks matching track title in order of popularity\n",
    "    endpoint = f\"https://api.spotify.com/v1/search?q={song}&type=track\"\n",
    "    headers = {\"Authorization\":f\"Bearer {access_token}\"}\n",
    "\n",
    "    response = requests.get(endpoint,headers=headers).json()\n",
    "    \n",
    "    try:\n",
    "#         Apped first json object to list (The most popular track matching search criteria)\n",
    "        track = response[\"tracks\"][\"items\"][0]\n",
    "        top_songs_json.append(track)\n",
    "        \n",
    "#         Append song_id for use in second API Call\n",
    "        song_id = response[\"tracks\"][\"items\"][0][\"id\"]\n",
    "        song_ids.append(song_id)\n",
    "        \n",
    "        #  Append markets \n",
    "        market = response[\"tracks\"][\"items\"][0][\"available_markets\"]\n",
    "        markets.append(market)\n",
    "        \n",
    "    except: \n",
    "#         Alert for any track that was not appended to lists\n",
    "        print(\"Song not Found\")\n",
    "        print(json.dumps(response[\"tracks\"][\"items\"][0][\"artists\"],indent=4))\n"
   ]
  },
  {
   "cell_type": "code",
   "execution_count": 15,
   "metadata": {
    "scrolled": false
   },
   "outputs": [
    {
     "name": "stdout",
     "output_type": "stream",
     "text": [
      "100\n"
     ]
    }
   ],
   "source": [
    "# Verify list length\n",
    "print(len(song_ids))"
   ]
  },
  {
   "cell_type": "code",
   "execution_count": 16,
   "metadata": {},
   "outputs": [
    {
     "name": "stdout",
     "output_type": "stream",
     "text": [
      "{'AD': 100, 'AR': 100, 'AT': 100, 'AU': 100, 'BE': 100, 'BG': 100, 'BO': 100, 'BR': 100, 'CA': 100, 'CH': 100, 'CL': 100, 'CO': 100, 'CR': 100, 'CY': 100, 'CZ': 100, 'DE': 100, 'DK': 100, 'DO': 100, 'EC': 100, 'EE': 100, 'ES': 100, 'FI': 100, 'FR': 100, 'GB': 100, 'GR': 100, 'GT': 100, 'HK': 100, 'HN': 100, 'HU': 100, 'ID': 100, 'IE': 100, 'IL': 100, 'IS': 100, 'IT': 100, 'JP': 100, 'LI': 100, 'LT': 100, 'LU': 100, 'LV': 100, 'MC': 100, 'MT': 100, 'MX': 100, 'MY': 100, 'NI': 100, 'NL': 100, 'NO': 100, 'NZ': 100, 'PA': 100, 'PE': 100, 'PH': 100, 'PL': 100, 'PT': 100, 'PY': 100, 'RO': 100, 'SE': 100, 'SG': 100, 'SK': 100, 'SV': 100, 'TH': 100, 'TR': 100, 'TW': 100, 'US': 100, 'UY': 100, 'VN': 100, 'ZA': 100}\n"
     ]
    }
   ],
   "source": [
    "# Count the number of countries in which each song is available\n",
    "from collections import Counter\n",
    "market_counter = Counter(x for sublist in markets for x in sublist)\n",
    "# Counter(x for sublist in markets for x in sublist)\n",
    "market_counter = dict(market_counter)\n",
    "print(market_counter)"
   ]
  },
  {
   "cell_type": "code",
   "execution_count": 25,
   "metadata": {},
   "outputs": [
    {
     "name": "stdout",
     "output_type": "stream",
     "text": [
      "[{'country_code': 'AD', 'market_count': 100}, {'country_code': 'AR', 'market_count': 100}, {'country_code': 'AT', 'market_count': 100}, {'country_code': 'AU', 'market_count': 100}, {'country_code': 'BE', 'market_count': 100}, {'country_code': 'BG', 'market_count': 100}, {'country_code': 'BO', 'market_count': 100}, {'country_code': 'BR', 'market_count': 100}, {'country_code': 'CA', 'market_count': 100}, {'country_code': 'CH', 'market_count': 100}, {'country_code': 'CL', 'market_count': 100}, {'country_code': 'CO', 'market_count': 100}, {'country_code': 'CR', 'market_count': 100}, {'country_code': 'CY', 'market_count': 100}, {'country_code': 'CZ', 'market_count': 100}, {'country_code': 'DE', 'market_count': 100}, {'country_code': 'DK', 'market_count': 100}, {'country_code': 'DO', 'market_count': 100}, {'country_code': 'EC', 'market_count': 100}, {'country_code': 'EE', 'market_count': 100}, {'country_code': 'ES', 'market_count': 100}, {'country_code': 'FI', 'market_count': 100}, {'country_code': 'FR', 'market_count': 100}, {'country_code': 'GB', 'market_count': 100}, {'country_code': 'GR', 'market_count': 100}, {'country_code': 'GT', 'market_count': 100}, {'country_code': 'HK', 'market_count': 100}, {'country_code': 'HN', 'market_count': 100}, {'country_code': 'HU', 'market_count': 100}, {'country_code': 'ID', 'market_count': 100}, {'country_code': 'IE', 'market_count': 100}, {'country_code': 'IL', 'market_count': 100}, {'country_code': 'IS', 'market_count': 100}, {'country_code': 'IT', 'market_count': 100}, {'country_code': 'JP', 'market_count': 100}, {'country_code': 'LI', 'market_count': 100}, {'country_code': 'LT', 'market_count': 100}, {'country_code': 'LU', 'market_count': 100}, {'country_code': 'LV', 'market_count': 100}, {'country_code': 'MC', 'market_count': 100}, {'country_code': 'MT', 'market_count': 100}, {'country_code': 'MX', 'market_count': 100}, {'country_code': 'MY', 'market_count': 100}, {'country_code': 'NI', 'market_count': 100}, {'country_code': 'NL', 'market_count': 100}, {'country_code': 'NO', 'market_count': 100}, {'country_code': 'NZ', 'market_count': 100}, {'country_code': 'PA', 'market_count': 100}, {'country_code': 'PE', 'market_count': 100}, {'country_code': 'PH', 'market_count': 100}, {'country_code': 'PL', 'market_count': 100}, {'country_code': 'PT', 'market_count': 100}, {'country_code': 'PY', 'market_count': 100}, {'country_code': 'RO', 'market_count': 100}, {'country_code': 'SE', 'market_count': 100}, {'country_code': 'SG', 'market_count': 100}, {'country_code': 'SK', 'market_count': 100}, {'country_code': 'SV', 'market_count': 100}, {'country_code': 'TH', 'market_count': 100}, {'country_code': 'TR', 'market_count': 100}, {'country_code': 'TW', 'market_count': 100}, {'country_code': 'US', 'market_count': 100}, {'country_code': 'UY', 'market_count': 100}, {'country_code': 'VN', 'market_count': 100}, {'country_code': 'ZA', 'market_count': 100}]\n"
     ]
    }
   ],
   "source": [
    "market_dic = []\n",
    "\n",
    "for key, value in market_counter.items():\n",
    "    temp = {\"country_code\": key,\n",
    "           \"market_count\": value}\n",
    "    market_dic.append(temp)\n",
    "    \n",
    "print(market_dic)"
   ]
  },
  {
   "cell_type": "code",
   "execution_count": null,
   "metadata": {},
   "outputs": [],
   "source": [
    "# raw json\n",
    "audio_features = []\n",
    "\n",
    "# List to Load into db\n",
    "features = []\n",
    "\n",
    "for song_id in song_ids:\n",
    "    \n",
    "#     Call Spotify API to collect Audio features data\n",
    "    endpoint = f\"https://api.spotify.com/v1/audio-features/{song_id}\"\n",
    "    headers = {\"Authorization\":f\"Bearer {access_token}\"}\n",
    "\n",
    "    response = requests.get(endpoint,headers=headers).json()\n",
    "    \n",
    "    song_id = response[\"id\"]\n",
    "    \n",
    "    endpoint2 = f\"https://api.spotify.com/v1/tracks/{song_id}\"\n",
    "    headers2 = {\"Authorization\":f\"Bearer {access_token}\"}\n",
    "\n",
    "    response2 = requests.get(endpoint2,headers=headers2).json()\n",
    "    \n",
    "#     Append raw json to list\n",
    "    audio_features.append(response)\n",
    "\n",
    "    \n",
    "#     Append each feature\n",
    "    features.append({\n",
    "        \"id\": response[\"id\"],\n",
    "        \"popularity\": response2[\"popularity\"],\n",
    "        \"danceability\": response[\"danceability\"],\n",
    "        \"energy\": response[\"energy\"],\n",
    "        \"loudness\": response[\"loudness\"],\n",
    "        \"speechiness\": response[\"speechiness\"],\n",
    "        \"duration_ms\": response[\"duration_ms\"],\n",
    "        \"tempo\": response[\"tempo\"]\n",
    "    })\n",
    "    "
   ]
  },
  {
   "cell_type": "code",
   "execution_count": null,
   "metadata": {},
   "outputs": [],
   "source": [
    "# print(features)\n",
    "print(artists)"
   ]
  },
  {
   "cell_type": "code",
   "execution_count": null,
   "metadata": {},
   "outputs": [],
   "source": [
    "genres = []\n",
    "\n",
    "for artist in artists:\n",
    "    \n",
    "#     Spotify API search endpoint returns list of tracks matching track title in order of popularity\n",
    "    endpoint = f\"https://api.spotify.com/v1/search?q={artist}&type=artist\"\n",
    "    headers = {\"Authorization\":f\"Bearer {access_token}\"}\n",
    "\n",
    "    response = requests.get(endpoint,headers=headers).json()\n",
    "    try:\n",
    "        genre = response[\"artists\"][\"items\"][0]\n",
    "        genres.append(genre)\n",
    "    except:\n",
    "        print(f\"Artist not found: {artist}\")\n",
    "    "
   ]
  },
  {
   "cell_type": "code",
   "execution_count": null,
   "metadata": {},
   "outputs": [],
   "source": [
    "print(genres[1])"
   ]
  },
  {
   "cell_type": "code",
   "execution_count": 20,
   "metadata": {},
   "outputs": [],
   "source": [
    "from sqlalchemy import create_engine\n",
    "\n",
    "# Connect to db using sqlalchemy\n",
    "db_uri = \"sqlite:///music.db\"\n",
    "engine = create_engine(db_uri)\n",
    "\n",
    "# create features table\n",
    "# engine.execute('CREATE TABLE \"features\" ('\n",
    "#                'id string NOT NULL,'\n",
    "#                'popularity integer,'\n",
    "#                'danceability integer,'\n",
    "#                'energy integer,'\n",
    "#                'loudness integer,'\n",
    "#                'speechiness integer,'\n",
    "#                'duration_ms integer,'\n",
    "#                'tempo integer);')\n",
    "\n",
    "# create map table\n",
    "# engine.execute('CREATE TABLE \"map\" ('\n",
    "#                'country_code string,'\n",
    "#                'market_count integer);')\n",
    "\n",
    "\n",
    "# c.execute(\"DROP TABLE features\")\n"
   ]
  },
  {
   "cell_type": "code",
   "execution_count": null,
   "metadata": {
    "scrolled": true
   },
   "outputs": [],
   "source": [
    "conn = sqlite3.connect('music.db')\n",
    "\n",
    "c = conn.cursor()\n",
    "\n",
    "\n",
    "for feature in features:\n",
    "    c.execute(\"insert into features values (?, ?, ?, ?, ?, ?, ?, ?)\", \n",
    "              [feature['id'],feature['popularity'],feature['danceability'],feature['energy'],\n",
    "              feature['loudness'],feature['speechiness'],feature['duration_ms'],feature['tempo']])\n",
    "    conn.commit()\n",
    "conn.close()"
   ]
  },
  {
   "cell_type": "code",
   "execution_count": null,
   "metadata": {},
   "outputs": [],
   "source": [
    "# verify table creation\n",
    "result = engine.execute('SELECT * FROM \"features\"')\n",
    "# print(result.fetchall())"
   ]
  },
  {
   "cell_type": "code",
   "execution_count": 26,
   "metadata": {},
   "outputs": [],
   "source": [
    "\n",
    "conn = sqlite3.connect('music.db')\n",
    "\n",
    "c = conn.cursor()\n",
    "\n",
    "\n",
    "for market in market_dic:\n",
    "    c.execute(\"insert into map values (?, ?)\", \n",
    "              [market['country_code'],market['market_count']])\n",
    "    conn.commit()\n",
    "conn.close()"
   ]
  },
  {
   "cell_type": "code",
   "execution_count": 27,
   "metadata": {},
   "outputs": [
    {
     "name": "stdout",
     "output_type": "stream",
     "text": [
      "[('AD', 100), ('AR', 100), ('AT', 100), ('AU', 100), ('BE', 100), ('BG', 100), ('BO', 100), ('BR', 100), ('CA', 100), ('CH', 100), ('CL', 100), ('CO', 100), ('CR', 100), ('CY', 100), ('CZ', 100), ('DE', 100), ('DK', 100), ('DO', 100), ('EC', 100), ('EE', 100), ('ES', 100), ('FI', 100), ('FR', 100), ('GB', 100), ('GR', 100), ('GT', 100), ('HK', 100), ('HN', 100), ('HU', 100), ('ID', 100), ('IE', 100), ('IL', 100), ('IS', 100), ('IT', 100), ('JP', 100), ('LI', 100), ('LT', 100), ('LU', 100), ('LV', 100), ('MC', 100), ('MT', 100), ('MX', 100), ('MY', 100), ('NI', 100), ('NL', 100), ('NO', 100), ('NZ', 100), ('PA', 100), ('PE', 100), ('PH', 100), ('PL', 100), ('PT', 100), ('PY', 100), ('RO', 100), ('SE', 100), ('SG', 100), ('SK', 100), ('SV', 100), ('TH', 100), ('TR', 100), ('TW', 100), ('US', 100), ('UY', 100), ('VN', 100), ('ZA', 100)]\n"
     ]
    }
   ],
   "source": [
    "# verify table creation\n",
    "result = engine.execute('SELECT * FROM \"map\"')\n",
    "print(result.fetchall())"
   ]
  },
  {
   "cell_type": "code",
   "execution_count": null,
   "metadata": {},
   "outputs": [],
   "source": []
  }
 ],
 "metadata": {
  "kernelspec": {
   "display_name": "Python [default]",
   "language": "python",
   "name": "python3"
  },
  "language_info": {
   "codemirror_mode": {
    "name": "ipython",
    "version": 3
   },
   "file_extension": ".py",
   "mimetype": "text/x-python",
   "name": "python",
   "nbconvert_exporter": "python",
   "pygments_lexer": "ipython3",
   "version": "3.6.4"
  }
 },
 "nbformat": 4,
 "nbformat_minor": 2
}
