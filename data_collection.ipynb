{
 "cells": [
  {
   "cell_type": "code",
   "execution_count": 1,
   "metadata": {},
   "outputs": [],
   "source": [
    "import billboard\n"
   ]
  },
  {
   "cell_type": "code",
   "execution_count": 2,
   "metadata": {},
   "outputs": [],
   "source": [
    "# Call hot 100 tracks billbaord API using billboard library\n",
    "chart = billboard.ChartData('hot-100')"
   ]
  },
  {
   "cell_type": "code",
   "execution_count": 3,
   "metadata": {
    "scrolled": true
   },
   "outputs": [],
   "source": [
    "artists = []\n",
    "songs = []\n",
    "\n",
    "\n",
    "for song in chart:\n",
    "    \n",
    "#     Add songs and artists to list for API calls\n",
    "    songs.append(song.title)\n",
    "    artists.append(song.artist)\n",
    "# print(artists)\n",
    "# print()\n",
    "# print(songs)"
   ]
  },
  {
   "cell_type": "code",
   "execution_count": 4,
   "metadata": {},
   "outputs": [],
   "source": [
    "# Call top 200 tracks billbaord API using billboard library\n",
    "chart = billboard.ChartData('billboard-200')\n",
    "# print(chart)"
   ]
  },
  {
   "cell_type": "code",
   "execution_count": 5,
   "metadata": {
    "scrolled": true
   },
   "outputs": [],
   "source": [
    "import requests\n",
    "import json\n",
    "\n",
    "top_songs_json = []\n",
    "song_ids = []\n",
    "popularity = []\n",
    "\n",
    "# Enter your access_token given to you. Will import have to figure out a way to import from js\n",
    "access_token = \"BQBbfSL2tL2FmISsRDVilkmAlvFVqfKEwHAG3l9THmdfNj6J588lD97FGNS2-b50Kin1T19UUo8NiPivTA5m11t4lUFPnPO7pTpXzBdTgGI45syQeCs6auNzyF4VuY-Gjb95V9Re9F31O5w_DpWuCJ1AmnJvgh7fISoI\"\n",
    "\n",
    "for song in songs:\n",
    "    \n",
    "#     Spotify API search endpoint returns list of tracks matching track title in order of popularity\n",
    "    endpoint = f\"https://api.spotify.com/v1/search?q={song}&type=track\"\n",
    "    headers = {\"Authorization\":f\"Bearer {access_token}\"}\n",
    "\n",
    "    response = requests.get(endpoint,headers=headers).json()\n",
    "    \n",
    "    try:\n",
    "#         Apped first json object to list (The most popular track matching search criteria)\n",
    "        track = response[\"tracks\"][\"items\"][0]\n",
    "        top_songs_json.append(track)\n",
    "        \n",
    "#         Append song_id for use in second API Call\n",
    "        song_id = response[\"tracks\"][\"items\"][0][\"id\"]\n",
    "        song_ids.append(song_id)\n",
    "        \n",
    "    except: \n",
    "#         Alert for any track that was not appended to lists\n",
    "        print(\"This was not added\")\n",
    "        print(json.dumps(response[\"tracks\"][\"items\"][0][\"artists\"],indent=4))\n"
   ]
  },
  {
   "cell_type": "code",
   "execution_count": null,
   "metadata": {
    "scrolled": false
   },
   "outputs": [],
   "source": [
    "# Verify list length\n",
    "print(len(song_ids))"
   ]
  },
  {
   "cell_type": "code",
   "execution_count": 6,
   "metadata": {},
   "outputs": [],
   "source": [
    "# raw json\n",
    "audio_features = []\n",
    "\n",
    "# List to Load into db\n",
    "features = []\n",
    "\n",
    "for song_id in song_ids:\n",
    "    \n",
    "#     Call Spotify API to collect Audio features data\n",
    "    endpoint = f\"https://api.spotify.com/v1/audio-features/{song_id}\"\n",
    "    headers = {\"Authorization\":f\"Bearer {access_token}\"}\n",
    "\n",
    "    response = requests.get(endpoint,headers=headers).json()\n",
    "    \n",
    "    song_id = response[\"id\"]\n",
    "    \n",
    "    endpoint2 = f\"https://api.spotify.com/v1/tracks/{song_id}\"\n",
    "    headers2 = {\"Authorization\":f\"Bearer {access_token}\"}\n",
    "\n",
    "    response2 = requests.get(endpoint2,headers=headers2).json()\n",
    "    \n",
    "#     Append raw json to list\n",
    "    audio_features.append(response)\n",
    "\n",
    "    \n",
    "#     Append each feature\n",
    "    features.append({\n",
    "        \"id\": response[\"id\"],\n",
    "        \"popularity\": response2[\"popularity\"],\n",
    "        \"danceability\": response[\"danceability\"],\n",
    "        \"energy\": response[\"energy\"],\n",
    "        \"loudness\": response[\"loudness\"],\n",
    "        \"speechiness\": response[\"speechiness\"],\n",
    "        \"duration_ms\": response[\"duration_ms\"],\n",
    "        \"tempo\": response[\"tempo\"]\n",
    "    })\n",
    "#     danceability.append(response[\"danceability\"])\n",
    "#     energy.append(response[\"energy\"])\n",
    "#     loudness.append(response[\"loudness\"])\n",
    "#     speechiness.append(response[\"speechiness\"])\n",
    "#     duration_ms.append(response[\"duration_ms\"])\n",
    "#     tempo.append(response[\"tempo\"])\n",
    "    "
   ]
  },
  {
   "cell_type": "code",
   "execution_count": 7,
   "metadata": {},
   "outputs": [
    {
     "name": "stdout",
     "output_type": "stream",
     "text": [
      "[{'id': '6FRLCMO5TUHTexlWo8ym1W', 'popularity': 94, 'danceability': 0.851, 'energy': 0.541, 'loudness': -6.825, 'speechiness': 0.0505, 'duration_ms': 235545, 'tempo': 124.959}, {'id': '0s3nnoMeVWz3989MkNQiRf', 'popularity': 97, 'danceability': 0.511, 'energy': 0.566, 'loudness': -7.23, 'speechiness': 0.2, 'duration_ms': 239836, 'tempo': 83.903}, {'id': '7dt6x5M1jzdTEt8oCbisTK', 'popularity': 95, 'danceability': 0.68, 'energy': 0.563, 'loudness': -5.843, 'speechiness': 0.0454, 'duration_ms': 231267, 'tempo': 145.028}, {'id': '1BxkZE73h9BN3qwuA15TA3', 'popularity': 91, 'danceability': 0.9, 'energy': 0.653, 'loudness': -6.962, 'speechiness': 0.289, 'duration_ms': 145603, 'tempo': 112.503}, {'id': '2VxeLyX666F8uXCJ0dZF8B', 'popularity': 84, 'danceability': 0.572, 'energy': 0.385, 'loudness': -6.362, 'speechiness': 0.0308, 'duration_ms': 215733, 'tempo': 95.799}, {'id': '2xLMifQCjDGFmkHkpNLD9h', 'popularity': 97, 'danceability': 0.834, 'energy': 0.73, 'loudness': -3.714, 'speechiness': 0.222, 'duration_ms': 312820, 'tempo': 155.008}, {'id': '55S2PQgSMYAhgoTCcGCDfw', 'popularity': 90, 'danceability': 0.596, 'energy': 0.854, 'loudness': -5.114, 'speechiness': 0.463, 'duration_ms': 203418, 'tempo': 120.274}, {'id': '2dpaYNEQHiRxtZbfNsse99', 'popularity': 100, 'danceability': 0.687, 'energy': 0.792, 'loudness': -2.749, 'speechiness': 0.0452, 'duration_ms': 214290, 'tempo': 100.015}, {'id': '58q2HKrzhC3ozto2nDdN4z', 'popularity': 96, 'danceability': 0.816, 'energy': 0.726, 'loudness': -3.998, 'speechiness': 0.129, 'duration_ms': 253390, 'tempo': 136.048}, {'id': '2E124GmJRnBJuXbTb4cPUB', 'popularity': 96, 'danceability': 0.931, 'energy': 0.387, 'loudness': -9.127, 'speechiness': 0.412, 'duration_ms': 179405, 'tempo': 125.978}, {'id': '2G7V7zsVDxg1yRsu7Ew9RJ', 'popularity': 99, 'danceability': 0.835, 'energy': 0.626, 'loudness': -5.833, 'speechiness': 0.125, 'duration_ms': 217925, 'tempo': 91.03}, {'id': '45Egmo7icyopuzJN0oMEdk', 'popularity': 89, 'danceability': 0.708, 'energy': 0.648, 'loudness': -5.626, 'speechiness': 0.0449, 'duration_ms': 201707, 'tempo': 143.955}, {'id': '4zIO3ilp5HvTeK3HJHxhMP', 'popularity': 95, 'danceability': 0.448, 'energy': 0.612, 'loudness': -6.106, 'speechiness': 0.0708, 'duration_ms': 189467, 'tempo': 97.773}, {'id': '5IaHrVsrferBYDm0bDyABy', 'popularity': 96, 'danceability': 0.884, 'energy': 0.559, 'loudness': -7.442, 'speechiness': 0.12, 'duration_ms': 232959, 'tempo': 97.994}, {'id': '6wWaVoUOzLQJHd3bWAUpdZ', 'popularity': 88, 'danceability': 0.757, 'energy': 0.69, 'loudness': -5.327, 'speechiness': 0.282, 'duration_ms': 194732, 'tempo': 132.064}, {'id': '6yz0Jndhv0QjKdpcEMbOjz', 'popularity': 84, 'danceability': 0.776, 'energy': 0.608, 'loudness': -6.478, 'speechiness': 0.104, 'duration_ms': 116681, 'tempo': 156.025}, {'id': '4S8d14HvHb70ImctNgVzQQ', 'popularity': 99, 'danceability': 0.901, 'energy': 0.522, 'loudness': -8.304, 'speechiness': 0.33, 'duration_ms': 127947, 'tempo': 104.053}, {'id': '5p7ujcrUXASCNwRaWNHR1C', 'popularity': 91, 'danceability': 0.752, 'energy': 0.488, 'loudness': -7.05, 'speechiness': 0.0705, 'duration_ms': 201661, 'tempo': 136.041}, {'id': '0TlLq3lA83rQOYtrqBqSct', 'popularity': 94, 'danceability': 0.912, 'energy': 0.412, 'loudness': -8.074, 'speechiness': 0.124, 'duration_ms': 238614, 'tempo': 154.983}, {'id': '0d2iYfpKoM0QCKvcLCkBao', 'popularity': 99, 'danceability': 0.56, 'energy': 0.68, 'loudness': -7.648, 'speechiness': 0.321, 'duration_ms': 173800, 'tempo': 89.391}, {'id': '4hQ6UGyWQIGJmHSo0J88JW', 'popularity': 88, 'danceability': 0.601, 'energy': 0.724, 'loudness': -4.856, 'speechiness': 0.0486, 'duration_ms': 207905, 'tempo': 102.061}, {'id': '5OCJzvD7sykQEKHH7qAC3C', 'popularity': 94, 'danceability': 0.602, 'energy': 0.658, 'loudness': -5.934, 'speechiness': 0.0558, 'duration_ms': 197547, 'tempo': 145.031}, {'id': '0dbTQYW3Ad1FTzIA9t90E8', 'popularity': 93, 'danceability': 0.855, 'energy': 0.694, 'loudness': -4.393, 'speechiness': 0.169, 'duration_ms': 324189, 'tempo': 122.078}, {'id': '1xzBco0xcoJEDXktl7Jxrr', 'popularity': 84, 'danceability': 0.729, 'energy': 0.625, 'loudness': -5.266, 'speechiness': 0.0315, 'duration_ms': 183907, 'tempo': 146.034}, {'id': '1jQvUmf16VE9WQCPuK2e8K', 'popularity': 89, 'danceability': 0.733, 'energy': 0.63, 'loudness': -4.296, 'speechiness': 0.395, 'duration_ms': 152000, 'tempo': 149.989}, {'id': '6vN77lE9LK6HP2DewaN6HZ', 'popularity': 91, 'danceability': 0.964, 'energy': 0.346, 'loudness': -9.309, 'speechiness': 0.53, 'duration_ms': 142273, 'tempo': 119.958}, {'id': '0ZNrc4kNeQYD9koZ3KvCsy', 'popularity': 89, 'danceability': 0.745, 'energy': 0.346, 'loudness': -7.709, 'speechiness': 0.331, 'duration_ms': 237240, 'tempo': 203.911}, {'id': '5nzhL67GpF9szXWg5y509A', 'popularity': 81, 'danceability': 0.665, 'energy': 0.585, 'loudness': -5.077, 'speechiness': 0.366, 'duration_ms': 203881, 'tempo': 158.953}, {'id': '3wScL5W8H40zzCKN0atfBk', 'popularity': 89, 'danceability': 0.743, 'energy': 0.87, 'loudness': -2.188, 'speechiness': 0.212, 'duration_ms': 194184, 'tempo': 99.075}, {'id': '0At2qAoaVjIwWNAqrscXli', 'popularity': 85, 'danceability': 0.561, 'energy': 0.779, 'loudness': -5.107, 'speechiness': 0.0531, 'duration_ms': 256064, 'tempo': 81.965}, {'id': '4w8niZpiMy6qz1mntFA5uM', 'popularity': 97, 'danceability': 0.841, 'energy': 0.798, 'loudness': -4.206, 'speechiness': 0.229, 'duration_ms': 212500, 'tempo': 95.948}, {'id': '5WvAo7DNuPRmk4APhdPzi8', 'popularity': 95, 'danceability': 0.552, 'energy': 0.76, 'loudness': -4.706, 'speechiness': 0.342, 'duration_ms': 260000, 'tempo': 135.702}, {'id': '6NFyWDv5CjfwuzoCkw47Xf', 'popularity': 85, 'danceability': 0.75, 'energy': 0.404, 'loudness': -10.178, 'speechiness': 0.0682, 'duration_ms': 232253, 'tempo': 95.045}, {'id': '7iDa6hUg2VgEL1o1HjmfBn', 'popularity': 88, 'danceability': 0.643, 'energy': 0.783, 'loudness': -6.458, 'speechiness': 0.0856, 'duration_ms': 163870, 'tempo': 154.084}, {'id': '1rqqCSm0Qe4I9rUvWncaom', 'popularity': 92, 'danceability': 0.579, 'energy': 0.904, 'loudness': -2.729, 'speechiness': 0.0618, 'duration_ms': 190947, 'tempo': 82.014}, {'id': '4A7EkKijzA4ryEoCRWJzdG', 'popularity': 72, 'danceability': 0.451, 'energy': 0.34, 'loudness': -7.466, 'speechiness': 0.031, 'duration_ms': 281067, 'tempo': 110.502}, {'id': '3ee8Jmje8o58CHK66QrVC2', 'popularity': 97, 'danceability': 0.74, 'energy': 0.613, 'loudness': -4.88, 'speechiness': 0.145, 'duration_ms': 166606, 'tempo': 75.023}, {'id': '3swc6WTsr7rl9DqQKQA55C', 'popularity': 92, 'danceability': 0.739, 'energy': 0.559, 'loudness': -8.011, 'speechiness': 0.117, 'duration_ms': 221440, 'tempo': 140.124}, {'id': '5cGpjfgAvidLy6znwkCxkP', 'popularity': 86, 'danceability': 0.578, 'energy': 0.577, 'loudness': -5.997, 'speechiness': 0.202, 'duration_ms': 193243, 'tempo': 99.288}, {'id': '1wjzFQodRWrPcQ0AnYnvQ9', 'popularity': 88, 'danceability': 0.752, 'energy': 0.505, 'loudness': -7.621, 'speechiness': 0.253, 'duration_ms': 197437, 'tempo': 91.97}, {'id': '74iZuPGwyL33VlTr6jTnab', 'popularity': 77, 'danceability': 0.553, 'energy': 0.502, 'loudness': -5.972, 'speechiness': 0.0409, 'duration_ms': 210200, 'tempo': 129.976}, {'id': '04ZTP5KsCypmtCmQg5tH9R', 'popularity': 89, 'danceability': 0.63, 'energy': 0.694, 'loudness': -6.257, 'speechiness': 0.0253, 'duration_ms': 195519, 'tempo': 97.005}, {'id': '2SL6oP2YAEQbqsrkOzRGO4', 'popularity': 88, 'danceability': 0.749, 'energy': 0.794, 'loudness': -5.063, 'speechiness': 0.064, 'duration_ms': 269554, 'tempo': 135.959}, {'id': '2qT1uLXPVPzGgFOx4jtEuo', 'popularity': 92, 'danceability': 0.699, 'energy': 0.713, 'loudness': -5.507, 'speechiness': 0.0594, 'duration_ms': 205920, 'tempo': 121.993}, {'id': '09IStsImFySgyp0pIQdqAc', 'popularity': 90, 'danceability': 0.753, 'energy': 0.657, 'loudness': -3.061, 'speechiness': 0.0449, 'duration_ms': 184732, 'tempo': 107.01}, {'id': '0QIjsbm2fh1cJ45XO9eGqq', 'popularity': 92, 'danceability': 0.8, 'energy': 0.578, 'loudness': -5.144, 'speechiness': 0.0485, 'duration_ms': 204665, 'tempo': 143.01}, {'id': '4VUwkH455At9kENOfzTqmF', 'popularity': 94, 'danceability': 0.638, 'energy': 0.717, 'loudness': -4.722, 'speechiness': 0.0337, 'duration_ms': 180000, 'tempo': 100.027}, {'id': '1co0puPTYvqAdUEjFOjne9', 'popularity': 82, 'danceability': 0.375, 'energy': 0.889, 'loudness': -3.704, 'speechiness': 0.0991, 'duration_ms': 185200, 'tempo': 199.669}, {'id': '7Il2yWQmsqKgSkLQvHTPUI', 'popularity': 80, 'danceability': 0.474, 'energy': 0.594, 'loudness': -5.756, 'speechiness': 0.0289, 'duration_ms': 195987, 'tempo': 86.131}, {'id': '0Dn40gxVCMo5TkgS8Ik18Q', 'popularity': 97, 'danceability': 0.669, 'energy': 0.574, 'loudness': -6.442, 'speechiness': 0.0286, 'duration_ms': 196400, 'tempo': 120.013}, {'id': '698eQRku24PIYPQPHItKlA', 'popularity': 79, 'danceability': 0.533, 'energy': 0.907, 'loudness': -3.793, 'speechiness': 0.0406, 'duration_ms': 183160, 'tempo': 150.99}, {'id': '5DfWF0jqMgZDCiu9zJENTA', 'popularity': 83, 'danceability': 0.767, 'energy': 0.543, 'loudness': -7.881, 'speechiness': 0.103, 'duration_ms': 177140, 'tempo': 106.029}, {'id': '1jo3TwNGCXfNdB5uba3ZVv', 'popularity': 91, 'danceability': 0.892, 'energy': 0.651, 'loudness': -8.645, 'speechiness': 0.378, 'duration_ms': 253580, 'tempo': 105.814}, {'id': '6PoKfDY78ih5OveWirggRX', 'popularity': 80, 'danceability': 0.855, 'energy': 0.516, 'loudness': -8.116, 'speechiness': 0.44, 'duration_ms': 187465, 'tempo': 140.955}, {'id': '4OafepJy2teCjYJbvFE60J', 'popularity': 94, 'danceability': 0.568, 'energy': 0.656, 'loudness': -5.413, 'speechiness': 0.0433, 'duration_ms': 198160, 'tempo': 100.049}, {'id': '0OgGn1ofaj55l2PcihQQGV', 'popularity': 87, 'danceability': 0.763, 'energy': 0.572, 'loudness': -7.312, 'speechiness': 0.0595, 'duration_ms': 190472, 'tempo': 151.93}, {'id': '17jeLyQcEUmKv3MXeEo79k', 'popularity': 76, 'danceability': 0.874, 'energy': 0.727, 'loudness': -7.689, 'speechiness': 0.0777, 'duration_ms': 214160, 'tempo': 98.97}, {'id': '2oPCR02nduYVpj7CTfsA0d', 'popularity': 78, 'danceability': 0.455, 'energy': 0.897, 'loudness': -4.879, 'speechiness': 0.0403, 'duration_ms': 212067, 'tempo': 160.139}, {'id': '4kWO6O1BUXcZmaxitpVUwp', 'popularity': 93, 'danceability': 0.747, 'energy': 0.834, 'loudness': -2.867, 'speechiness': 0.045, 'duration_ms': 215760, 'tempo': 128.005}, {'id': '5BQrp63SHCVf4bzCzJePne', 'popularity': 90, 'danceability': 0.585, 'energy': 0.709, 'loudness': -6.072, 'speechiness': 0.319, 'duration_ms': 249450, 'tempo': 111.913}, {'id': '7roKDmJDOzkpfGpUQJ5EnL', 'popularity': 79, 'danceability': 0.823, 'energy': 0.638, 'loudness': -6.131, 'speechiness': 0.0852, 'duration_ms': 162268, 'tempo': 141.943}, {'id': '0Fpen1PTuEnCmOJtUU9Iud', 'popularity': 90, 'danceability': 0.85, 'energy': 0.785, 'loudness': -4.963, 'speechiness': 0.345, 'duration_ms': 343099, 'tempo': 145.063}, {'id': '172e82oK9vGoBPvc6SqMm5', 'popularity': 72, 'danceability': 0.557, 'energy': 0.279, 'loudness': -7.757, 'speechiness': 0.0372, 'duration_ms': 191280, 'tempo': 102.727}, {'id': '60SdxE8apGAxMiRrpbmLY0', 'popularity': 96, 'danceability': 0.876, 'energy': 0.786, 'loudness': -4.884, 'speechiness': 0.306, 'duration_ms': 244679, 'tempo': 153.068}, {'id': '6GBndDk0OEpDkmKoSBJyyK', 'popularity': 79, 'danceability': 0.549, 'energy': 0.869, 'loudness': -4.905, 'speechiness': 0.0289, 'duration_ms': 178733, 'tempo': 91.988}, {'id': '7uVkYr8gxcPEgqohvynpdN', 'popularity': 77, 'danceability': 0.51, 'energy': 0.386, 'loudness': -8.391, 'speechiness': 0.0307, 'duration_ms': 199436, 'tempo': 86.36}, {'id': '0CBQ0m3mufWH75LTYB3s6h', 'popularity': 88, 'danceability': 0.902, 'energy': 0.819, 'loudness': -3.321, 'speechiness': 0.317, 'duration_ms': 186872, 'tempo': 89.0}, {'id': '2VX37A1p7tkvrH2UJwAU0T', 'popularity': 74, 'danceability': 0.711, 'energy': 0.796, 'loudness': -5.87, 'speechiness': 0.0341, 'duration_ms': 208733, 'tempo': 109.991}, {'id': '7q7jyVU0f0hnod8tsaUmxg', 'popularity': 79, 'danceability': 0.631, 'energy': 0.44, 'loudness': -5.948, 'speechiness': 0.028, 'duration_ms': 212745, 'tempo': 136.033}, {'id': '33471tzU1VghDg9zNgGRpz', 'popularity': 76, 'danceability': 0.758, 'energy': 0.867, 'loudness': -5.087, 'speechiness': 0.0475, 'duration_ms': 166573, 'tempo': 102.018}, {'id': '07FkzikE6FuHIa8Ma7zJGc', 'popularity': 83, 'danceability': 0.753, 'energy': 0.66, 'loudness': -6.542, 'speechiness': 0.133, 'duration_ms': 209213, 'tempo': 95.003}, {'id': '3N2AIfVOq6NiTcWHIP4Oco', 'popularity': 79, 'danceability': 0.386, 'energy': 0.799, 'loudness': -3.789, 'speechiness': 0.0555, 'duration_ms': 213024, 'tempo': 86.333}, {'id': '3ngc7rGlfeFaskU90EWl4R', 'popularity': 82, 'danceability': 0.494, 'energy': 0.637, 'loudness': -6.381, 'speechiness': 0.0333, 'duration_ms': 274693, 'tempo': 147.924}, {'id': '2uMTscYuCT3BZ0OCzH3MwN', 'popularity': 83, 'danceability': 0.715, 'energy': 0.617, 'loudness': -5.558, 'speechiness': 0.242, 'duration_ms': 130929, 'tempo': 176.108}, {'id': '0ZNrc4kNeQYD9koZ3KvCsy', 'popularity': 89, 'danceability': 0.745, 'energy': 0.346, 'loudness': -7.709, 'speechiness': 0.331, 'duration_ms': 237240, 'tempo': 203.911}, {'id': '7dt6x5M1jzdTEt8oCbisTK', 'popularity': 95, 'danceability': 0.68, 'energy': 0.563, 'loudness': -5.843, 'speechiness': 0.0454, 'duration_ms': 231267, 'tempo': 145.028}, {'id': '2374M0fQpWi3dLnB54qaLX', 'popularity': 86, 'danceability': 0.671, 'energy': 0.373, 'loudness': -18.064, 'speechiness': 0.0323, 'duration_ms': 295893, 'tempo': 92.717}, {'id': '0Y7di9ZCmB6Elad5WISaPc', 'popularity': 87, 'danceability': 0.879, 'energy': 0.662, 'loudness': -6.162, 'speechiness': 0.309, 'duration_ms': 189909, 'tempo': 117.975}, {'id': '1E1uGhNdBe6Dddbgs2KqtZ', 'popularity': 81, 'danceability': 0.62, 'energy': 0.61, 'loudness': -8.329, 'speechiness': 0.0373, 'duration_ms': 238560, 'tempo': 127.052}, {'id': '1yQvL8SzbF5JCroRKk9F07', 'popularity': 77, 'danceability': 0.766, 'energy': 0.692, 'loudness': -5.312, 'speechiness': 0.0915, 'duration_ms': 191724, 'tempo': 120.011}, {'id': '5HeKOKc4phmLn8e4I7EkzD', 'popularity': 83, 'danceability': 0.749, 'energy': 0.723, 'loudness': -6.609, 'speechiness': 0.0432, 'duration_ms': 229120, 'tempo': 108.999}, {'id': '575NJxNUVDqwJGdzBrlLbv', 'popularity': 84, 'danceability': 0.694, 'energy': 0.852, 'loudness': -5.34, 'speechiness': 0.257, 'duration_ms': 201253, 'tempo': 107.178}, {'id': '5N5k9nd479b1xpDZ4usjrg', 'popularity': 98, 'danceability': 0.781, 'energy': 0.768, 'loudness': -5.991, 'speechiness': 0.0394, 'duration_ms': 213309, 'tempo': 123.07}, {'id': '6qNALlmZa1ESnCxJmXE1K9', 'popularity': 83, 'danceability': 0.755, 'energy': 0.769, 'loudness': -5.658, 'speechiness': 0.186, 'duration_ms': 186080, 'tempo': 114.966}, {'id': '04MLEeAMuV9IlHEsD8vF6A', 'popularity': 90, 'danceability': 0.765, 'energy': 0.704, 'loudness': -4.589, 'speechiness': 0.127, 'duration_ms': 192172, 'tempo': 147.055}, {'id': '4lFfMRH0YH4pW5gczTDbNC', 'popularity': 77, 'danceability': 0.741, 'energy': 0.37, 'loudness': -8.437, 'speechiness': 0.324, 'duration_ms': 219136, 'tempo': 116.06}, {'id': '2ZYbPXhx4OCmdTsMThbSEW', 'popularity': 76, 'danceability': 0.629, 'energy': 0.464, 'loudness': -8.72, 'speechiness': 0.0334, 'duration_ms': 195053, 'tempo': 156.051}, {'id': '33tNYw9oMtSkGe27NpgS64', 'popularity': 86, 'danceability': 0.79, 'energy': 0.629, 'loudness': -4.055, 'speechiness': 0.142, 'duration_ms': 169620, 'tempo': 170.023}, {'id': '6CyJlVAEFlNdpggOLanytL', 'popularity': 76, 'danceability': 0.434, 'energy': 0.831, 'loudness': -4.774, 'speechiness': 0.0453, 'duration_ms': 185440, 'tempo': 156.034}, {'id': '5c0Vl3yklw5WX9YI36dPLd', 'popularity': 74, 'danceability': 0.803, 'energy': 0.648, 'loudness': -9.185, 'speechiness': 0.198, 'duration_ms': 219552, 'tempo': 131.925}, {'id': '5cGpjfgAvidLy6znwkCxkP', 'popularity': 86, 'danceability': 0.578, 'energy': 0.577, 'loudness': -5.997, 'speechiness': 0.202, 'duration_ms': 193243, 'tempo': 99.288}, {'id': '1RMJOxR6GRPsBHL8qeC2ux', 'popularity': 83, 'danceability': 0.524, 'energy': 0.364, 'loudness': -10.209, 'speechiness': 0.0367, 'duration_ms': 209831, 'tempo': 75.24}, {'id': '6jMbPsH6lTOLs5n8Af26AG', 'popularity': 71, 'danceability': 0.699, 'energy': 0.282, 'loudness': -7.65, 'speechiness': 0.0374, 'duration_ms': 159293, 'tempo': 79.776}, {'id': '14mHfNsSHN0FbLftyjrV9g', 'popularity': 88, 'danceability': 0.792, 'energy': 0.743, 'loudness': -2.806, 'speechiness': 0.0851, 'duration_ms': 195637, 'tempo': 150.024}, {'id': '5SehvGGC53A7SZKCLXQcyt', 'popularity': 81, 'danceability': 0.728, 'energy': 0.602, 'loudness': -7.748, 'speechiness': 0.185, 'duration_ms': 225040, 'tempo': 140.081}, {'id': '1kFBLqkTuNKlspkJ1EOGjN', 'popularity': 71, 'danceability': 0.485, 'energy': 0.306, 'loudness': -8.431, 'speechiness': 0.0409, 'duration_ms': 207267, 'tempo': 203.729}, {'id': '16QjPRt5HYK0dnLGmGRCvf', 'popularity': 76, 'danceability': 0.669, 'energy': 0.54, 'loudness': -8.118, 'speechiness': 0.5, 'duration_ms': 174662, 'tempo': 150.18}, {'id': '3F57PtOdqRpD6euFYqtKXX', 'popularity': 77, 'danceability': 0.819, 'energy': 0.481, 'loudness': -6.67, 'speechiness': 0.415, 'duration_ms': 145060, 'tempo': 129.97}, {'id': '53yTYusPQJ1AApL1hi0Dnc', 'popularity': 76, 'danceability': 0.472, 'energy': 0.884, 'loudness': -2.306, 'speechiness': 0.0584, 'duration_ms': 216093, 'tempo': 159.96}, {'id': '7d6XJZjnm7iWcKwYL9z5kC', 'popularity': 92, 'danceability': 0.699, 'energy': 0.558, 'loudness': -7.622, 'speechiness': 0.0603, 'duration_ms': 165000, 'tempo': 79.992}]\n"
     ]
    }
   ],
   "source": [
    "print(features)"
   ]
  },
  {
   "cell_type": "code",
   "execution_count": 8,
   "metadata": {},
   "outputs": [],
   "source": [
    "import sqlite3\n",
    "\n",
    "conn = sqlite3.connect('music.db')\n",
    "\n",
    "c = conn.cursor()\n"
   ]
  },
  {
   "cell_type": "code",
   "execution_count": 15,
   "metadata": {},
   "outputs": [
    {
     "name": "stdout",
     "output_type": "stream",
     "text": [
      "[('6FRLCMO5TUHTexlWo8ym1W', 94, 0.851, 0.541, -6.825, 0.0505, 235545, 124.959), ('0s3nnoMeVWz3989MkNQiRf', 97, 0.511, 0.566, -7.23, 0.2, 239836, 83.903), ('7dt6x5M1jzdTEt8oCbisTK', 95, 0.68, 0.563, -5.843, 0.0454, 231267, 145.028), ('1BxkZE73h9BN3qwuA15TA3', 91, 0.9, 0.653, -6.962, 0.289, 145603, 112.503), ('2VxeLyX666F8uXCJ0dZF8B', 84, 0.572, 0.385, -6.362, 0.0308, 215733, 95.799), ('2xLMifQCjDGFmkHkpNLD9h', 97, 0.834, 0.73, -3.714, 0.222, 312820, 155.008), ('55S2PQgSMYAhgoTCcGCDfw', 90, 0.596, 0.854, -5.114, 0.463, 203418, 120.274), ('2dpaYNEQHiRxtZbfNsse99', 100, 0.687, 0.792, -2.749, 0.0452, 214290, 100.015), ('58q2HKrzhC3ozto2nDdN4z', 96, 0.816, 0.726, -3.998, 0.129, 253390, 136.048), ('2E124GmJRnBJuXbTb4cPUB', 96, 0.931, 0.387, -9.127, 0.412, 179405, 125.978), ('2G7V7zsVDxg1yRsu7Ew9RJ', 99, 0.835, 0.626, -5.833, 0.125, 217925, 91.03), ('45Egmo7icyopuzJN0oMEdk', 89, 0.708, 0.648, -5.626, 0.0449, 201707, 143.955), ('4zIO3ilp5HvTeK3HJHxhMP', 95, 0.448, 0.612, -6.106, 0.0708, 189467, 97.773), ('5IaHrVsrferBYDm0bDyABy', 96, 0.884, 0.559, -7.442, 0.12, 232959, 97.994), ('6wWaVoUOzLQJHd3bWAUpdZ', 88, 0.757, 0.69, -5.327, 0.282, 194732, 132.064), ('6yz0Jndhv0QjKdpcEMbOjz', 84, 0.776, 0.608, -6.478, 0.104, 116681, 156.025), ('4S8d14HvHb70ImctNgVzQQ', 99, 0.901, 0.522, -8.304, 0.33, 127947, 104.053), ('5p7ujcrUXASCNwRaWNHR1C', 91, 0.752, 0.488, -7.05, 0.0705, 201661, 136.041), ('0TlLq3lA83rQOYtrqBqSct', 94, 0.912, 0.412, -8.074, 0.124, 238614, 154.983), ('0d2iYfpKoM0QCKvcLCkBao', 99, 0.56, 0.68, -7.648, 0.321, 173800, 89.391), ('4hQ6UGyWQIGJmHSo0J88JW', 88, 0.601, 0.724, -4.856, 0.0486, 207905, 102.061), ('5OCJzvD7sykQEKHH7qAC3C', 94, 0.602, 0.658, -5.934, 0.0558, 197547, 145.031), ('0dbTQYW3Ad1FTzIA9t90E8', 93, 0.855, 0.694, -4.393, 0.169, 324189, 122.078), ('1xzBco0xcoJEDXktl7Jxrr', 84, 0.729, 0.625, -5.266, 0.0315, 183907, 146.034), ('1jQvUmf16VE9WQCPuK2e8K', 89, 0.733, 0.63, -4.296, 0.395, 152000, 149.989), ('6vN77lE9LK6HP2DewaN6HZ', 91, 0.964, 0.346, -9.309, 0.53, 142273, 119.958), ('0ZNrc4kNeQYD9koZ3KvCsy', 89, 0.745, 0.346, -7.709, 0.331, 237240, 203.911), ('5nzhL67GpF9szXWg5y509A', 81, 0.665, 0.585, -5.077, 0.366, 203881, 158.953), ('3wScL5W8H40zzCKN0atfBk', 89, 0.743, 0.87, -2.188, 0.212, 194184, 99.075), ('0At2qAoaVjIwWNAqrscXli', 85, 0.561, 0.779, -5.107, 0.0531, 256064, 81.965), ('4w8niZpiMy6qz1mntFA5uM', 97, 0.841, 0.798, -4.206, 0.229, 212500, 95.948), ('5WvAo7DNuPRmk4APhdPzi8', 95, 0.552, 0.76, -4.706, 0.342, 260000, 135.702), ('6NFyWDv5CjfwuzoCkw47Xf', 85, 0.75, 0.404, -10.178, 0.0682, 232253, 95.045), ('7iDa6hUg2VgEL1o1HjmfBn', 88, 0.643, 0.783, -6.458, 0.0856, 163870, 154.084), ('1rqqCSm0Qe4I9rUvWncaom', 92, 0.579, 0.904, -2.729, 0.0618, 190947, 82.014), ('4A7EkKijzA4ryEoCRWJzdG', 72, 0.451, 0.34, -7.466, 0.031, 281067, 110.502), ('3ee8Jmje8o58CHK66QrVC2', 97, 0.74, 0.613, -4.88, 0.145, 166606, 75.023), ('3swc6WTsr7rl9DqQKQA55C', 92, 0.739, 0.559, -8.011, 0.117, 221440, 140.124), ('5cGpjfgAvidLy6znwkCxkP', 86, 0.578, 0.577, -5.997, 0.202, 193243, 99.288), ('1wjzFQodRWrPcQ0AnYnvQ9', 88, 0.752, 0.505, -7.621, 0.253, 197437, 91.97), ('74iZuPGwyL33VlTr6jTnab', 77, 0.553, 0.502, -5.972, 0.0409, 210200, 129.976), ('04ZTP5KsCypmtCmQg5tH9R', 89, 0.63, 0.694, -6.257, 0.0253, 195519, 97.005), ('2SL6oP2YAEQbqsrkOzRGO4', 88, 0.749, 0.794, -5.063, 0.064, 269554, 135.959), ('2qT1uLXPVPzGgFOx4jtEuo', 92, 0.699, 0.713, -5.507, 0.0594, 205920, 121.993), ('09IStsImFySgyp0pIQdqAc', 90, 0.753, 0.657, -3.061, 0.0449, 184732, 107.01), ('0QIjsbm2fh1cJ45XO9eGqq', 92, 0.8, 0.578, -5.144, 0.0485, 204665, 143.01), ('4VUwkH455At9kENOfzTqmF', 94, 0.638, 0.717, -4.722, 0.0337, 180000, 100.027), ('1co0puPTYvqAdUEjFOjne9', 82, 0.375, 0.889, -3.704, 0.0991, 185200, 199.669), ('7Il2yWQmsqKgSkLQvHTPUI', 80, 0.474, 0.594, -5.756, 0.0289, 195987, 86.131), ('0Dn40gxVCMo5TkgS8Ik18Q', 97, 0.669, 0.574, -6.442, 0.0286, 196400, 120.013), ('698eQRku24PIYPQPHItKlA', 79, 0.533, 0.907, -3.793, 0.0406, 183160, 150.99), ('5DfWF0jqMgZDCiu9zJENTA', 83, 0.767, 0.543, -7.881, 0.103, 177140, 106.029), ('1jo3TwNGCXfNdB5uba3ZVv', 91, 0.892, 0.651, -8.645, 0.378, 253580, 105.814), ('6PoKfDY78ih5OveWirggRX', 80, 0.855, 0.516, -8.116, 0.44, 187465, 140.955), ('4OafepJy2teCjYJbvFE60J', 94, 0.568, 0.656, -5.413, 0.0433, 198160, 100.049), ('0OgGn1ofaj55l2PcihQQGV', 87, 0.763, 0.572, -7.312, 0.0595, 190472, 151.93), ('17jeLyQcEUmKv3MXeEo79k', 76, 0.874, 0.727, -7.689, 0.0777, 214160, 98.97), ('2oPCR02nduYVpj7CTfsA0d', 78, 0.455, 0.897, -4.879, 0.0403, 212067, 160.139), ('4kWO6O1BUXcZmaxitpVUwp', 93, 0.747, 0.834, -2.867, 0.045, 215760, 128.005), ('5BQrp63SHCVf4bzCzJePne', 90, 0.585, 0.709, -6.072, 0.319, 249450, 111.913), ('7roKDmJDOzkpfGpUQJ5EnL', 79, 0.823, 0.638, -6.131, 0.0852, 162268, 141.943), ('0Fpen1PTuEnCmOJtUU9Iud', 90, 0.85, 0.785, -4.963, 0.345, 343099, 145.063), ('172e82oK9vGoBPvc6SqMm5', 72, 0.557, 0.279, -7.757, 0.0372, 191280, 102.727), ('60SdxE8apGAxMiRrpbmLY0', 96, 0.876, 0.786, -4.884, 0.306, 244679, 153.068), ('6GBndDk0OEpDkmKoSBJyyK', 79, 0.549, 0.869, -4.905, 0.0289, 178733, 91.988), ('7uVkYr8gxcPEgqohvynpdN', 77, 0.51, 0.386, -8.391, 0.0307, 199436, 86.36), ('0CBQ0m3mufWH75LTYB3s6h', 88, 0.902, 0.819, -3.321, 0.317, 186872, 89), ('2VX37A1p7tkvrH2UJwAU0T', 74, 0.711, 0.796, -5.87, 0.0341, 208733, 109.991), ('7q7jyVU0f0hnod8tsaUmxg', 79, 0.631, 0.44, -5.948, 0.028, 212745, 136.033), ('33471tzU1VghDg9zNgGRpz', 76, 0.758, 0.867, -5.087, 0.0475, 166573, 102.018), ('07FkzikE6FuHIa8Ma7zJGc', 83, 0.753, 0.66, -6.542, 0.133, 209213, 95.003), ('3N2AIfVOq6NiTcWHIP4Oco', 79, 0.386, 0.799, -3.789, 0.0555, 213024, 86.333), ('3ngc7rGlfeFaskU90EWl4R', 82, 0.494, 0.637, -6.381, 0.0333, 274693, 147.924), ('2uMTscYuCT3BZ0OCzH3MwN', 83, 0.715, 0.617, -5.558, 0.242, 130929, 176.108), ('0ZNrc4kNeQYD9koZ3KvCsy', 89, 0.745, 0.346, -7.709, 0.331, 237240, 203.911), ('7dt6x5M1jzdTEt8oCbisTK', 95, 0.68, 0.563, -5.843, 0.0454, 231267, 145.028), ('2374M0fQpWi3dLnB54qaLX', 86, 0.671, 0.373, -18.064, 0.0323, 295893, 92.717), ('0Y7di9ZCmB6Elad5WISaPc', 87, 0.879, 0.662, -6.162, 0.309, 189909, 117.975), ('1E1uGhNdBe6Dddbgs2KqtZ', 81, 0.62, 0.61, -8.329, 0.0373, 238560, 127.052), ('1yQvL8SzbF5JCroRKk9F07', 77, 0.766, 0.692, -5.312, 0.0915, 191724, 120.011), ('5HeKOKc4phmLn8e4I7EkzD', 83, 0.749, 0.723, -6.609, 0.0432, 229120, 108.999), ('575NJxNUVDqwJGdzBrlLbv', 84, 0.694, 0.852, -5.34, 0.257, 201253, 107.178), ('5N5k9nd479b1xpDZ4usjrg', 98, 0.781, 0.768, -5.991, 0.0394, 213309, 123.07), ('6qNALlmZa1ESnCxJmXE1K9', 83, 0.755, 0.769, -5.658, 0.186, 186080, 114.966), ('04MLEeAMuV9IlHEsD8vF6A', 90, 0.765, 0.704, -4.589, 0.127, 192172, 147.055), ('4lFfMRH0YH4pW5gczTDbNC', 77, 0.741, 0.37, -8.437, 0.324, 219136, 116.06), ('2ZYbPXhx4OCmdTsMThbSEW', 76, 0.629, 0.464, -8.72, 0.0334, 195053, 156.051), ('33tNYw9oMtSkGe27NpgS64', 86, 0.79, 0.629, -4.055, 0.142, 169620, 170.023), ('6CyJlVAEFlNdpggOLanytL', 76, 0.434, 0.831, -4.774, 0.0453, 185440, 156.034), ('5c0Vl3yklw5WX9YI36dPLd', 74, 0.803, 0.648, -9.185, 0.198, 219552, 131.925), ('5cGpjfgAvidLy6znwkCxkP', 86, 0.578, 0.577, -5.997, 0.202, 193243, 99.288), ('1RMJOxR6GRPsBHL8qeC2ux', 83, 0.524, 0.364, -10.209, 0.0367, 209831, 75.24), ('6jMbPsH6lTOLs5n8Af26AG', 71, 0.699, 0.282, -7.65, 0.0374, 159293, 79.776), ('14mHfNsSHN0FbLftyjrV9g', 88, 0.792, 0.743, -2.806, 0.0851, 195637, 150.024), ('5SehvGGC53A7SZKCLXQcyt', 81, 0.728, 0.602, -7.748, 0.185, 225040, 140.081), ('1kFBLqkTuNKlspkJ1EOGjN', 71, 0.485, 0.306, -8.431, 0.0409, 207267, 203.729), ('16QjPRt5HYK0dnLGmGRCvf', 76, 0.669, 0.54, -8.118, 0.5, 174662, 150.18), ('3F57PtOdqRpD6euFYqtKXX', 77, 0.819, 0.481, -6.67, 0.415, 145060, 129.97), ('53yTYusPQJ1AApL1hi0Dnc', 76, 0.472, 0.884, -2.306, 0.0584, 216093, 159.96), ('7d6XJZjnm7iWcKwYL9z5kC', 92, 0.699, 0.558, -7.622, 0.0603, 165000, 79.992)]\n"
     ]
    }
   ],
   "source": [
    " \n",
    "from sqlalchemy import create_engine\n",
    "\n",
    "db_uri = \"sqlite:///music.db\"\n",
    "engine = create_engine(db_uri)\n",
    "\n",
    "# create table\n",
    "# engine.execute('CREATE TABLE \"features\" ('\n",
    "#                'id string NOT NULL,'\n",
    "#                'popularity integer,'\n",
    "#                'danceability integer,'\n",
    "#                'energy integer,'\n",
    "#                'loudness integer,'\n",
    "#                'speechiness integer,'\n",
    "#                'duration_ms integer,'\n",
    "#                'tempo integer);')\n",
    "\n",
    "# c.execute(\"DROP TABLE features\")\n",
    "result = engine.execute('SELECT * FROM \"features\"')\n",
    "print(result.fetchall())"
   ]
  },
  {
   "cell_type": "code",
   "execution_count": 11,
   "metadata": {},
   "outputs": [],
   "source": [
    "import sqlite3\n",
    "\n",
    "conn = sqlite3.connect('music.db')\n",
    "\n",
    "c = conn.cursor()\n",
    "\n",
    "\n",
    "for feature in features:\n",
    "    c.execute(\"insert into features values (?, ?, ?, ?, ?, ?, ?, ?)\", \n",
    "              [feature['id'],feature['popularity'],feature['danceability'],feature['energy'],\n",
    "              feature['loudness'],feature['speechiness'],feature['duration_ms'],feature['tempo']])\n",
    "    conn.commit()\n",
    "conn.close()"
   ]
  },
  {
   "cell_type": "code",
   "execution_count": 13,
   "metadata": {},
   "outputs": [
    {
     "ename": "ProgrammingError",
     "evalue": "Cannot operate on a closed database.",
     "output_type": "error",
     "traceback": [
      "\u001b[1;31m---------------------------------------------------------------------------\u001b[0m",
      "\u001b[1;31mProgrammingError\u001b[0m                          Traceback (most recent call last)",
      "\u001b[1;32m<ipython-input-13-8e92f984dbfb>\u001b[0m in \u001b[0;36m<module>\u001b[1;34m()\u001b[0m\n\u001b[1;32m----> 1\u001b[1;33m \u001b[0mc\u001b[0m\u001b[1;33m.\u001b[0m\u001b[0mexecute\u001b[0m\u001b[1;33m(\u001b[0m\u001b[1;34m\"slecet * from features;\"\u001b[0m\u001b[1;33m)\u001b[0m\u001b[1;33m\u001b[0m\u001b[0m\n\u001b[0m",
      "\u001b[1;31mProgrammingError\u001b[0m: Cannot operate on a closed database."
     ]
    }
   ],
   "source": []
  },
  {
   "cell_type": "code",
   "execution_count": null,
   "metadata": {},
   "outputs": [],
   "source": []
  }
 ],
 "metadata": {
  "kernelspec": {
   "display_name": "Python [default]",
   "language": "python",
   "name": "python3"
  },
  "language_info": {
   "codemirror_mode": {
    "name": "ipython",
    "version": 3
   },
   "file_extension": ".py",
   "mimetype": "text/x-python",
   "name": "python",
   "nbconvert_exporter": "python",
   "pygments_lexer": "ipython3",
   "version": "3.6.4"
  }
 },
 "nbformat": 4,
 "nbformat_minor": 2
}
